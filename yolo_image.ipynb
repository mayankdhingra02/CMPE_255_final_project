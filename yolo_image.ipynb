{
 "cells": [
  {
   "cell_type": "code",
   "execution_count": 1,
   "metadata": {},
   "outputs": [],
   "source": [
    "import cv2\n",
    "import pandas as pd"
   ]
  },
  {
   "cell_type": "code",
   "execution_count": 2,
   "metadata": {},
   "outputs": [],
   "source": [
    "from darkflow.net.build import TFNet\n",
    "import matplotlib.pyplot as plt\n",
    "%config InlineBackend.figure_format='svg'"
   ]
  },
  {
   "cell_type": "code",
   "execution_count": 7,
   "metadata": {
    "scrolled": false
   },
   "outputs": [
    {
     "name": "stdout",
     "output_type": "stream",
     "text": [
      "Parsing cfg/tiny-yolo-voc-1c.cfg\n",
      "Loading None ...\n",
      "Finished in 0.0s\n",
      "\n",
      "Building net ...\n",
      "Source | Train? | Layer description                | Output size\n",
      "-------+--------+----------------------------------+---------------\n",
      "       |        | input                            | (?, 416, 416, 3)\n",
      " Init  |  Yep!  | conv 3x3p1_1  +bnorm  leaky      | (?, 416, 416, 16)\n",
      " Load  |  Yep!  | maxp 2x2p0_2                     | (?, 208, 208, 16)\n",
      " Init  |  Yep!  | conv 3x3p1_1  +bnorm  leaky      | (?, 208, 208, 32)\n",
      " Load  |  Yep!  | maxp 2x2p0_2                     | (?, 104, 104, 32)\n",
      " Init  |  Yep!  | conv 3x3p1_1  +bnorm  leaky      | (?, 104, 104, 64)\n",
      " Load  |  Yep!  | maxp 2x2p0_2                     | (?, 52, 52, 64)\n",
      " Init  |  Yep!  | conv 3x3p1_1  +bnorm  leaky      | (?, 52, 52, 128)\n",
      " Load  |  Yep!  | maxp 2x2p0_2                     | (?, 26, 26, 128)\n",
      " Init  |  Yep!  | conv 3x3p1_1  +bnorm  leaky      | (?, 26, 26, 256)\n",
      " Load  |  Yep!  | maxp 2x2p0_2                     | (?, 13, 13, 256)\n",
      " Init  |  Yep!  | conv 3x3p1_1  +bnorm  leaky      | (?, 13, 13, 512)\n",
      " Load  |  Yep!  | maxp 2x2p0_1                     | (?, 13, 13, 512)\n",
      " Init  |  Yep!  | conv 3x3p1_1  +bnorm  leaky      | (?, 13, 13, 1024)\n",
      " Init  |  Yep!  | conv 3x3p1_1  +bnorm  leaky      | (?, 13, 13, 1024)\n",
      " Init  |  Yep!  | conv 1x1p0_1    linear           | (?, 13, 13, 30)\n",
      "-------+--------+----------------------------------+---------------\n",
      "Running entirely on CPU\n",
      "Loading from ./ckpt/tiny-yolo-voc-1c-875\n",
      "INFO:tensorflow:Restoring parameters from ./ckpt/tiny-yolo-voc-1c-875\n",
      "Finished in 7.998525619506836s\n",
      "\n"
     ]
    }
   ],
   "source": [
    "# options={\n",
    "#     'model':'cfg/yolo.cfg',\n",
    "#     'load':'bin/yolov2.weights',\n",
    "#     'threshold':0.3, # threshold for confidence factor\n",
    "#     #'gpu' : 1.0\n",
    "# }\n",
    "options={\n",
    "    'model':'cfg/tiny-yolo-voc-1c.cfg',\n",
    "    'load':875,\n",
    "    'threshold':0.045, \n",
    "#     'gpu':1.0\n",
    "}\n",
    "tfnet=TFNet(options)"
   ]
  },
  {
   "cell_type": "code",
   "execution_count": 8,
   "metadata": {
    "scrolled": false
   },
   "outputs": [],
   "source": [
    "img=cv2.imread(r'C:\\Users\\mayan\\Desktop\\1.png',cv2.IMREAD_COLOR)\n",
    "img=cv2.cvtColor(img,cv2.COLOR_BGR2RGB)\n",
    "running=tfnet.return_predict(img)"
   ]
  },
  {
   "cell_type": "code",
   "execution_count": 2,
   "metadata": {},
   "outputs": [],
   "source": [
    "result=running\n",
    "result"
   ]
  },
  {
   "cell_type": "code",
   "execution_count": 67,
   "metadata": {},
   "outputs": [],
   "source": [
    "labels=pd.read_csv(r'C:/Users/mayan/Desktop/trainLabels.csv')"
   ]
  },
  {
   "cell_type": "code",
   "execution_count": 68,
   "metadata": {
    "scrolled": true
   },
   "outputs": [],
   "source": [
    "# index=[]\n",
    "# for i in range(1,1000):\n",
    "#     path=r'C:/Users/mayan/Desktop/train/'\n",
    "#     print(i)\n",
    "#     img=cv2.imread(path+str(i)+'.png',cv2.IMREAD_COLOR)\n",
    "#     img=cv2.cvtColor(img,cv2.COLOR_BGR2RGB)\n",
    "#     running=tfnet.return_predict(img)\n",
    "#     if(running!=[]):\n",
    "#         if(running[0]['label']==labels['label'][i-1]):\n",
    "#             index.append(i)"
   ]
  },
  {
   "cell_type": "code",
   "execution_count": 69,
   "metadata": {},
   "outputs": [],
   "source": [
    "# index"
   ]
  },
  {
   "cell_type": "code",
   "execution_count": 70,
   "metadata": {},
   "outputs": [],
   "source": [
    "\n",
    "for i in result:\n",
    "    tl=(i['topleft']['x'],i['topleft']['y'])\n",
    "    br=(i['bottomright']['x'],i['bottomright']['y'])\n",
    "    img=cv2.rectangle(img,tl,br,(0,255,0), 1)  # rectangle(image, topleft, bottomright, color, pixel thickness)"
   ]
  },
  {
   "cell_type": "code",
   "execution_count": 71,
   "metadata": {},
   "outputs": [],
   "source": [
    "img_cropped=img[tl[1]:br[1],tl[0]:br[0]]\n"
   ]
  },
  {
   "cell_type": "code",
   "execution_count": 3,
   "metadata": {},
   "outputs": [],
   "source": [
    "plt.imshow(img)\n",
    "plt.show()"
   ]
  },
  {
   "cell_type": "code",
   "execution_count": 4,
   "metadata": {},
   "outputs": [],
   "source": [
    "plt.imshow(img)\n",
    "plt.show()"
   ]
  },
  {
   "cell_type": "code",
   "execution_count": 5,
   "metadata": {
    "scrolled": true
   },
   "outputs": [],
   "source": [
    "plt.imshow(img)\n",
    "plt.show()"
   ]
  },
  {
   "cell_type": "code",
   "execution_count": 6,
   "metadata": {},
   "outputs": [],
   "source": [
    "plt.imshow(img)\n",
    "plt.show()"
   ]
  },
  {
   "cell_type": "code",
   "execution_count": 89,
   "metadata": {},
   "outputs": [],
   "source": [
    "img_gray=cv2.cvtColor(img_cropped,cv2.COLOR_BGR2GRAY)"
   ]
  },
  {
   "cell_type": "code",
   "execution_count": 7,
   "metadata": {},
   "outputs": [],
   "source": [
    "# plt.imshow(img_cropped)\n",
    "# # plt.show()"
   ]
  },
  {
   "cell_type": "code",
   "execution_count": 91,
   "metadata": {},
   "outputs": [
    {
     "data": {
      "text/plain": [
       "True"
      ]
     },
     "execution_count": 91,
     "metadata": {},
     "output_type": "execute_result"
    }
   ],
   "source": [
    "cv2.imwrite('cropped.jpg',img_cropped)"
   ]
  },
  {
   "cell_type": "code",
   "execution_count": 9,
   "metadata": {},
   "outputs": [],
   "source": [
    "# import cv2\n",
    "# img = cv2.imread('cropped.jpg', 0)\n",
    "# cv2.threshold(img,0,255,cv2.THRESH_BINARY+cv2.THRESH_OTSU,img)\n",
    "# contours, hier = cv2.findContours(img, cv2.RETR_EXTERNAL,cv2.CHAIN_APPROX_NONE)\n",
    "# contours = sorted(contours, key=lambda ctr: cv2.boundingRect(ctr)[0])\n",
    "# plt.imshow(img, cmap='Greys',  interpolation='nearest')"
   ]
  },
  {
   "cell_type": "code",
   "execution_count": 93,
   "metadata": {},
   "outputs": [
    {
     "data": {
      "text/plain": [
       "True"
      ]
     },
     "execution_count": 93,
     "metadata": {},
     "output_type": "execute_result"
    }
   ],
   "source": [
    "cv2.imwrite('cropped.jpg',img)"
   ]
  },
  {
   "cell_type": "code",
   "execution_count": 94,
   "metadata": {},
   "outputs": [],
   "source": [
    "# d=0\n",
    "# for ctr in contours:\n",
    "#     # Get bounding box\n",
    "#     x, y, w, h = cv2.boundingRect(ctr)\n",
    "#     # Getting ROI\n",
    "#     image=img\n",
    "#     roi = image[y:y+h, x:x+w]\n",
    "\n",
    "#     cv2.imshow('character: %d'%d,roi)\n",
    "#     cv2.imwrite('character_%d.png'%d, roi)\n",
    "#     cv2.waitKey(0)\n",
    "#     cv2.destroyAllWindows()\n",
    "#     d+=1"
   ]
  },
  {
   "cell_type": "code",
   "execution_count": 11,
   "metadata": {},
   "outputs": [],
   "source": [
    "result=[{'label': 'pothole',\n",
    "  'confidence': 0.7,\n",
    "  'topleft': {'x':353 , 'y':71 },\n",
    "  'bottomright': {'x': 417, 'y': 364}},{'label': 'automobile',\n",
    "  'confidence': 0.87,\n",
    "  'topleft': {'x': 396, 'y': 587},\n",
    "  'bottomright': {'x': 476, 'y': 795}}]"
   ]
  },
  {
   "cell_type": "code",
   "execution_count": 15,
   "metadata": {},
   "outputs": [],
   "source": [
    "result=[{'label': 'pothole',\n",
    "  'confidence': 0.7,\n",
    "  'topleft': {'x':71 , 'y':353 },\n",
    "  'bottomright': {'x': 364, 'y': 417}},{'label': 'automobile',\n",
    "  'confidence': 0.87,\n",
    "  'topleft': {'x': 587, 'y': 396},\n",
    "  'bottomright': {'x': 795, 'y': 476}}]"
   ]
  },
  {
   "cell_type": "code",
   "execution_count": 16,
   "metadata": {},
   "outputs": [],
   "source": [
    "\n",
    "for i in result:\n",
    "    tl=(i['topleft']['x'],i['topleft']['y'])\n",
    "    br=(i['bottomright']['x'],i['bottomright']['y'])\n",
    "    img=cv2.rectangle(img,tl,br,(0,255,0), 1)  # rectangle(image, topleft, bottomright, color, pixel thickness)"
   ]
  },
  {
   "cell_type": "code",
   "execution_count": 8,
   "metadata": {},
   "outputs": [],
   "source": [
    "# plt.imshow(img)"
   ]
  },
  {
   "cell_type": "code",
   "execution_count": null,
   "metadata": {},
   "outputs": [],
   "source": []
  }
 ],
 "metadata": {
  "kernelspec": {
   "display_name": "Python [conda env:car_plate]",
   "language": "python",
   "name": "conda-env-car_plate-py"
  },
  "language_info": {
   "codemirror_mode": {
    "name": "ipython",
    "version": 3
   },
   "file_extension": ".py",
   "mimetype": "text/x-python",
   "name": "python",
   "nbconvert_exporter": "python",
   "pygments_lexer": "ipython3",
   "version": "3.6.8"
  }
 },
 "nbformat": 4,
 "nbformat_minor": 2
}
